{
 "cells": [
  {
   "cell_type": "code",
   "execution_count": 2,
   "id": "00a48db8-b8da-4db4-809e-9fd04af16e1a",
   "metadata": {},
   "outputs": [
    {
     "name": "stdout",
     "output_type": "stream",
     "text": [
      "Requirement already satisfied: panda in /opt/conda/lib/python3.10/site-packages (0.3.1)\n",
      "Requirement already satisfied: requests in /opt/conda/lib/python3.10/site-packages (from panda) (2.28.1)\n",
      "Requirement already satisfied: setuptools in /opt/conda/lib/python3.10/site-packages (from panda) (65.5.1)\n",
      "Requirement already satisfied: urllib3<1.27,>=1.21.1 in /opt/conda/lib/python3.10/site-packages (from requests->panda) (1.26.13)\n",
      "Requirement already satisfied: idna<4,>=2.5 in /opt/conda/lib/python3.10/site-packages (from requests->panda) (3.4)\n",
      "Requirement already satisfied: certifi>=2017.4.17 in /opt/conda/lib/python3.10/site-packages (from requests->panda) (2022.12.7)\n",
      "Requirement already satisfied: charset-normalizer<3,>=2 in /opt/conda/lib/python3.10/site-packages (from requests->panda) (2.1.1)\n",
      "Note: you may need to restart the kernel to use updated packages.\n"
     ]
    }
   ],
   "source": [
    "pip install panda\n"
   ]
  },
  {
   "cell_type": "code",
   "execution_count": 4,
   "id": "e9a00a08-d10d-4694-8706-e988685fd4e8",
   "metadata": {},
   "outputs": [],
   "source": [
    "import pandas as pd"
   ]
  },
  {
   "cell_type": "code",
   "execution_count": 12,
   "id": "e9363a87-74db-4153-87ff-84c3d4c672a5",
   "metadata": {},
   "outputs": [
    {
     "name": "stdout",
     "output_type": "stream",
     "text": [
      "0     4\n",
      "1     8\n",
      "2    15\n",
      "3    16\n",
      "4    23\n",
      "5    42\n",
      "dtype: int64\n"
     ]
    }
   ],
   "source": [
    "#question 1\n",
    "\n",
    "my_list = [4, 8, 15, 16, 23, 42]\n",
    "\n",
    "s = pd.Series(my_list)\n",
    "print(s)"
   ]
  },
  {
   "cell_type": "code",
   "execution_count": 17,
   "id": "437033cb-df3c-4bdd-9483-b9f147d6c5a9",
   "metadata": {},
   "outputs": [
    {
     "name": "stdout",
     "output_type": "stream",
     "text": [
      "0     1\n",
      "1     2\n",
      "2     3\n",
      "3     4\n",
      "4     5\n",
      "5     6\n",
      "6     7\n",
      "7     8\n",
      "8     9\n",
      "9    10\n",
      "dtype: int64\n"
     ]
    }
   ],
   "source": [
    "#question 2\n",
    "\n",
    "my_list = [1,2,3,4,5,6,7,8,9,10]\n",
    "\n",
    "a = pd.Series(my_list)\n",
    "print(a)"
   ]
  },
  {
   "cell_type": "code",
   "execution_count": 22,
   "id": "69cfefbc-4269-4b68-84bb-7f368a1ac338",
   "metadata": {},
   "outputs": [],
   "source": [
    "#Question 3\n",
    "data = {\"Name\": ['Alice', 'Bob','Claire'],\n",
    "        \"age\":[ 25,30,27],\n",
    "        \"Gender\":[ 'Female','Male','Female']}"
   ]
  },
  {
   "cell_type": "code",
   "execution_count": 24,
   "id": "598c0944-60f8-43ff-82f6-15fce4898f5b",
   "metadata": {},
   "outputs": [],
   "source": [
    " s =pd.DataFrame(data)"
   ]
  },
  {
   "cell_type": "code",
   "execution_count": 25,
   "id": "a7a3f1a3-346e-4b62-bcb8-f50efb6b2c8e",
   "metadata": {},
   "outputs": [
    {
     "name": "stdout",
     "output_type": "stream",
     "text": [
      "     Name  age  Gender\n",
      "0   Alice   25  Female\n",
      "1     Bob   30    Male\n",
      "2  Claire   27  Female\n"
     ]
    }
   ],
   "source": [
    "print(s)"
   ]
  },
  {
   "cell_type": "markdown",
   "id": "e67ee63f-f1a2-4770-9f10-7a66b9d23982",
   "metadata": {},
   "source": [
    "Question 4\n",
    "\n",
    "In Pandas, a DataFrame is a two-dimensional labeled data structure with columns of potentially different types, much like a spreadsheet or a SQL table. It is a primary object that is used to represent and manipulate data in Pandas. A DataFrame can be thought of as a collection of Series objects, where each Series represents a column of data.\n",
    "\n",
    "In contrast, a Pandas Series is a one-dimensional labeled array capable of holding data of any type. It is similar to a column in a spreadsheet or a SQL table.\n",
    "\n",
    "Here's an example to illustrate the difference between a DataFrame and a Series:\n",
    "\n"
   ]
  },
  {
   "cell_type": "code",
   "execution_count": 35,
   "id": "d9744958-daaf-409c-a7cc-6c91c8c75fb6",
   "metadata": {},
   "outputs": [],
   "source": [
    "my_list =[1,2,3,4,5,6,7]\n",
    "sam = pd.Series(my_list)\n",
    "\n",
    "data = {\n",
    "    \"A\":[1,2,3,4,5,6],\n",
    "    \"B\":['a','b','c','d','e','f'],\n",
    "    \"C\":[1.1,2.2,3.3,4.4,5.5,6.6]}\n",
    "sam2 =  pd.DataFrame(data)\n"
   ]
  },
  {
   "cell_type": "code",
   "execution_count": 36,
   "id": "94d009e1-c5c9-47fe-aaed-5358a29c72ed",
   "metadata": {},
   "outputs": [
    {
     "name": "stdout",
     "output_type": "stream",
     "text": [
      "0    1\n",
      "1    2\n",
      "2    3\n",
      "3    4\n",
      "4    5\n",
      "5    6\n",
      "6    7\n",
      "dtype: int64\n",
      "   A  B    C\n",
      "0  1  a  1.1\n",
      "1  2  b  2.2\n",
      "2  3  c  3.3\n",
      "3  4  d  4.4\n",
      "4  5  e  5.5\n",
      "5  6  f  6.6\n"
     ]
    }
   ],
   "source": [
    "print(sam)\n",
    "print(sam2)"
   ]
  },
  {
   "cell_type": "markdown",
   "id": "e86a4d60-d73a-4119-8ecc-5b8f8d4c9154",
   "metadata": {},
   "source": [
    "n the output, you can see that the Series contains a single column of data with the index values 0 to 4. On the other hand, the DataFrame contains three columns of potentially different data types, with the index values 0 to 4. The column 'A' is a column of integers, 'B' is a column of strings, and 'C' is a column of floats. Thus, a DataFrame can contain multiple columns of data, whereas a Series represents a single column of data.\n",
    "\n",
    "\n"
   ]
  },
  {
   "cell_type": "markdown",
   "id": "6346b11e-c927-489e-9c97-5224d9662fda",
   "metadata": {},
   "source": [
    "Question 5"
   ]
  },
  {
   "cell_type": "markdown",
   "id": "f56dfc52-1169-4714-b363-ce2119394402",
   "metadata": {},
   "source": [
    "There are many functions available in Pandas that can be used to manipulate data in a DataFrame. Here are some of the most common functions:\n",
    "\n",
    "head() and tail(): These functions are used to view the first and last n rows of the DataFrame, respectively. For example, if you have a DataFrame with 1000 rows, you can use df.head(5) to view the first 5 rows.\n",
    "\n",
    "describe(): This function is used to generate descriptive statistics of the DataFrame, such as mean, standard deviation, minimum, maximum, and quartiles. For example, df.describe() can be used to get an overview of the statistical distribution of the data.\n",
    "\n",
    "sort_values(): This function is used to sort the rows of the DataFrame based on one or more columns. For example, df.sort_values('column_name') can be used to sort the DataFrame based on the values in the column 'column_name'.\n",
    "\n",
    "groupby(): This function is used to group the data in the DataFrame based on one or more columns, and apply a function to each group. For example, df.groupby('column_name').sum() can be used to group the data by the values in the column 'column_name', and calculate the sum of each group.\n",
    "\n",
    "drop(): This function is used to remove rows or columns from the DataFrame. For example, df.drop('column_name', axis=1) can be used to remove the column 'column_name' from the DataFrame.\n",
    "\n",
    "fillna(): This function is used to fill missing values in the DataFrame with a specified value or method. For example, df.fillna(0) can be used to fill all missing values in the DataFrame with 0.\n",
    "\n",
    "merge(): This function is used to merge two or more DataFrames based on a common column. For example, if you have two DataFrames with a common column 'column_name', you can use pd.merge(df1, df2, on='column_name') to merge the two DataFrames.\n",
    "\n",
    "These are just a few examples of the many functions available in Pandas for manipulating data in a DataFrame. The choice of which function to use depends on the specific task you want to accomplish with the data."
   ]
  },
  {
   "cell_type": "markdown",
   "id": "68356c72-ee32-4e85-bebc-182a14bcd270",
   "metadata": {},
   "source": [
    "Q6"
   ]
  },
  {
   "cell_type": "markdown",
   "id": "9e640885-82a7-4f26-87a2-de2983af65c1",
   "metadata": {},
   "source": [
    "In Pandas, both Series and DataFrame are mutable in nature, meaning that you can modify their values after they have been created.\n",
    "\n",
    "For example, you can change the values of a Series by using indexing to access specific elements of the Series and assign new values to them. Similarly, you can modify the values of a DataFrame by using indexing to access specific cells or columns of the DataFrame and assign new values to them.\n",
    "\n"
   ]
  },
  {
   "cell_type": "markdown",
   "id": "5cd9cbe2-ed93-4125-b9bc-deef15c30367",
   "metadata": {},
   "source": [
    "Q7"
   ]
  },
  {
   "cell_type": "markdown",
   "id": "197e6f85-b0b3-422b-b5a9-907ff0ad6645",
   "metadata": {},
   "source": [
    "You can create a DataFrame using multiple Series by passing a dictionary of Series objects to the DataFrame constructor. The keys of the dictionary correspond to the column names of the DataFrame, and the values of the dictionary correspond to the data in each column."
   ]
  },
  {
   "cell_type": "code",
   "execution_count": 44,
   "id": "a5151099-8843-4423-abab-42519e99b5ca",
   "metadata": {},
   "outputs": [],
   "source": [
    "#Here's an example of how to create a DataFrame using multiple Series\n",
    "a = ['saqib','shahid','seerat']\n",
    "b = [20,21,19]\n",
    "c = ['male','male','female']\n",
    "\n",
    "name = pd.Series(a)\n",
    "age = pd.Series(b)\n",
    "gender = pd.Series(c)\n",
    "\n",
    "data = {\"Name\":name,\"Age\":age,\"Gender\":\n",
    "\n"
   ]
  },
  {
   "cell_type": "code",
   "execution_count": null,
   "id": "9a612deb-09bc-47f6-bd03-82d0678b2054",
   "metadata": {},
   "outputs": [],
   "source": []
  }
 ],
 "metadata": {
  "kernelspec": {
   "display_name": "Python 3 (ipykernel)",
   "language": "python",
   "name": "python3"
  },
  "language_info": {
   "codemirror_mode": {
    "name": "ipython",
    "version": 3
   },
   "file_extension": ".py",
   "mimetype": "text/x-python",
   "name": "python",
   "nbconvert_exporter": "python",
   "pygments_lexer": "ipython3",
   "version": "3.10.8"
  }
 },
 "nbformat": 4,
 "nbformat_minor": 5
}
